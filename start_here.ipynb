{
 "cells": [
  {
   "cell_type": "markdown",
   "metadata": {},
   "source": [
    "# Aritifial Intelligence | Stanford Pre-collegiate International Institutes\n",
    "<img src=\"https://upload.wikimedia.org/wikipedia/commons/c/cd/Stanford_Oval_May_2011_panorama.jpg\">"
   ]
  },
  {
   "cell_type": "markdown",
   "metadata": {},
   "source": [
    "# Setting up your programming environment\n",
    "\n",
    "1. Create a Google account if you do not have one: [click here](https://accounts.google.com/signup).\n",
    "2. Complete this [Google colab tutorial](https://colab.research.google.com/notebooks/basic_features_overview.ipynb).\n",
    "    * Make sure you know what cells in a colab notebook are, how to execute them, and how to edit them.\n",
    "    * You do not have to write anything specific, but do play around with cells and their content. \n",
    "    * Learn where colab notebooks are saved in google drive. Learn how to create and save colaboratory notebooks.\n",
    "    * Do not worry about understanding the specific code (we will learn that together in class).\n",
    "3. Open this notebook in colab by typing `https://colab.research.google.com/github/iranroman/SPII_AI/blob/master/start_here.ipynb` in your internet browser.\n",
    "4. Save a copy of this notebook in your google account.\n",
    "5. In your copy, edit the text below and enter your name. \n",
    "    * My name is: \n",
    "\n",
    "What questions do you have about using Google colab? Write them here and let's discuss in class:\n",
    "*  \n",
    "* \n",
    "* "
   ]
  },
  {
   "cell_type": "markdown",
   "metadata": {},
   "source": [
    "# Math review: datapoints\n",
    "\n",
    "1. [Cartesian coordinates](https://www.mathsisfun.com/data/cartesian-coordinates.html)\n",
    "2. [Distance between 2 points](https://www.mathsisfun.com/algebra/distance-2-points.html)\n",
    "3. [Mean](https://www.mathsisfun.com/mean.html)\n",
    "4. [Median](https://www.mathsisfun.com/median.html)\n",
    "5. [Mode](https://www.mathsisfun.com/mode.html)\n",
    "\n",
    "Complete all the questions at the bottom of each review. Retake the quiz if you did not get a perfect score.\n",
    "\n",
    "What questions do you have about these topics? Write them here and let's discuss in class:\n",
    "*  \n",
    "* \n",
    "* "
   ]
  },
  {
   "cell_type": "markdown",
   "metadata": {},
   "source": [
    "# Math review: differential calculus\n",
    "\n",
    "1. [What is a function](https://www.mathsisfun.com/sets/function.html)\n",
    "2. [Introduction to derivatives](https://www.mathsisfun.com/calculus/derivatives-introduction.html)\n",
    "3. [Derivative rules](https://www.mathsisfun.com/calculus/derivatives-rules.html)\n",
    "4. [Chain rule examples](https://www.math.ucdavis.edu/~kouba/CalcOneDIRECTORY/chainruledirectory/ChainRule.html) (this will be very important in our course!)\n",
    "\n",
    "What questions do you have about derivatives? Write them here and let's discuss in class.\n",
    "* \n",
    "* \n",
    "* "
   ]
  },
  {
   "cell_type": "code",
   "execution_count": null,
   "metadata": {},
   "outputs": [],
   "source": []
  }
 ],
 "metadata": {
  "kernelspec": {
   "display_name": "Python 3",
   "language": "python",
   "name": "python3"
  },
  "language_info": {
   "codemirror_mode": {
    "name": "ipython",
    "version": 3
   },
   "file_extension": ".py",
   "mimetype": "text/x-python",
   "name": "python",
   "nbconvert_exporter": "python",
   "pygments_lexer": "ipython3",
   "version": "3.7.3"
  }
 },
 "nbformat": 4,
 "nbformat_minor": 4
}
