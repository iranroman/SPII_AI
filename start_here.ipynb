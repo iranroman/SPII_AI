{
 "cells": [
  {
   "cell_type": "markdown",
   "metadata": {},
   "source": [
    "# Aritifial Intelligence | Stanford Pre-collegiate International Institutes\n",
    "<img src=\"https://upload.wikimedia.org/wikipedia/commons/c/cd/Stanford_Oval_May_2011_panorama.jpg\">"
   ]
  },
  {
   "cell_type": "markdown",
   "metadata": {},
   "source": [
    "# Setting up your programming environment\n",
    "\n",
    "1. Create a Google account if you do not have one: [click here](https://accounts.google.com/signup).\n",
    "2. Complete this [Google colab tutorial](https://colab.research.google.com/notebooks/basic_features_overview.ipynb).\n",
    "    * Make sure you know what cells in a colab notebook are, how to execute them, and how to edit them.\n",
    "    * You do not have to write anything specific, but do play around with cells and their content. \n",
    "    * Learn where colab notebooks are saved in google drive. Learn how to create and save colaboratory notebooks.\n",
    "    * Do not worry about understanding the specific code (we will learn that together in class).\n",
    "3. Open this notebook in colab by typing `https://colab.research.google.com/github/iranroman/SPII_AI/blob/master/start_here.ipynb` in your internet browser.\n",
    "4. Save a copy of this notebook in your google account.\n",
    "5. In your copy, edit the text below and enter your name. \n",
    "    * My name is: \n",
    "6. What questions do you have about using Google colab? Type them here and let's discuss them in class:\n",
    "    *  \n",
    "    * \n",
    "    * "
   ]
  },
  {
   "cell_type": "code",
   "execution_count": null,
   "metadata": {},
   "outputs": [],
   "source": []
  }
 ],
 "metadata": {
  "kernelspec": {
   "display_name": "Python 3",
   "language": "python",
   "name": "python3"
  },
  "language_info": {
   "codemirror_mode": {
    "name": "ipython",
    "version": 3
   },
   "file_extension": ".py",
   "mimetype": "text/x-python",
   "name": "python",
   "nbconvert_exporter": "python",
   "pygments_lexer": "ipython3",
   "version": "3.7.3"
  }
 },
 "nbformat": 4,
 "nbformat_minor": 4
}
