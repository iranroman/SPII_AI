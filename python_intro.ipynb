{
  "nbformat": 4,
  "nbformat_minor": 0,
  "metadata": {
    "colab": {
      "name": "python_intro.ipynb",
      "provenance": []
    },
    "kernelspec": {
      "name": "python3",
      "display_name": "Python 3"
    }
  },
  "cells": [
    {
      "cell_type": "code",
      "metadata": {
        "id": "J_tBjXQMqkht",
        "colab_type": "code",
        "colab": {
          "base_uri": "https://localhost:8080/",
          "height": 34
        },
        "outputId": "5a55fa26-0181-40fb-86a4-a5fdb4589c21"
      },
      "source": [
        "# python is like a calculator\n",
        "\n",
        "a = 1\n",
        "b = 1\n",
        "print(a+b)"
      ],
      "execution_count": 2,
      "outputs": [
        {
          "output_type": "stream",
          "text": [
            "2\n"
          ],
          "name": "stdout"
        }
      ]
    },
    {
      "cell_type": "code",
      "metadata": {
        "id": "36CSvzlmkt3M",
        "colab_type": "code",
        "colab": {
          "base_uri": "https://localhost:8080/",
          "height": 51
        },
        "outputId": "7616c338-6213-4bbf-9ed7-766d44aeef31"
      },
      "source": [
        "# you can create lists in python\n",
        "# and you can print them using the print()\n",
        "\n",
        "a = [1,2]\n",
        "b = [3,4]\n",
        "print(a)\n",
        "print(b)"
      ],
      "execution_count": 3,
      "outputs": [
        {
          "output_type": "stream",
          "text": [
            "[1, 2]\n",
            "[3, 4]\n"
          ],
          "name": "stdout"
        }
      ]
    },
    {
      "cell_type": "code",
      "metadata": {
        "id": "RjcCcnwFk1on",
        "colab_type": "code",
        "colab": {
          "base_uri": "https://localhost:8080/",
          "height": 34
        },
        "outputId": "a07efbe0-b605-467e-e6b2-315d7d589078"
      },
      "source": [
        "# you can also print just one of the elements in the list\n",
        "# by indexing\n",
        "\n",
        "print(a[0])"
      ],
      "execution_count": 4,
      "outputs": [
        {
          "output_type": "stream",
          "text": [
            "1\n"
          ],
          "name": "stdout"
        }
      ]
    },
    {
      "cell_type": "code",
      "metadata": {
        "id": "iHJRwNKsk9MA",
        "colab_type": "code",
        "colab": {}
      },
      "source": [
        "# in python you can also create functions\n",
        "\n",
        "def mean(x):\n",
        "  N = len(x)\n",
        "\n",
        "  m = 0\n",
        "  for x_i in x:\n",
        "    m = m + x_i\n",
        "  \n",
        "  m = m / N\n",
        "\n",
        "  return m\n",
        "  \n"
      ],
      "execution_count": 11,
      "outputs": []
    },
    {
      "cell_type": "code",
      "metadata": {
        "id": "XxdLr8vilCpG",
        "colab_type": "code",
        "colab": {
          "base_uri": "https://localhost:8080/",
          "height": 34
        },
        "outputId": "1d95c00a-fc4b-4bf2-f579-d3854ba4631b"
      },
      "source": [
        "# and you can use the function on another\n",
        "# python object\n",
        "\n",
        "a = [3,5,3,2,6,8,9]\n",
        "\n",
        "print('The mean of a is: ', mean(a))"
      ],
      "execution_count": 13,
      "outputs": [
        {
          "output_type": "stream",
          "text": [
            "The mean of a is:  5.142857142857143\n"
          ],
          "name": "stdout"
        }
      ]
    },
    {
      "cell_type": "code",
      "metadata": {
        "id": "ME1kq2WIlkRA",
        "colab_type": "code",
        "colab": {
          "base_uri": "https://localhost:8080/",
          "height": 283
        },
        "outputId": "a0d3e488-0483-48b6-9be5-e053e29caddf"
      },
      "source": [
        "# the library we will use to plot data\n",
        "# is called matplotlib\n",
        "\n",
        "%matplotlib inline\n",
        "import matplotlib.pyplot as plt\n",
        "\n",
        "a = [1, 3]\n",
        "b = [2, 4]\n",
        "c = [3, 2]\n",
        "\n",
        "plt.scatter(a[0],a[1])\n",
        "plt.scatter(b[0],b[1])\n",
        "plt.scatter(c[0],c[1])\n",
        "plt.xlabel('X axis')\n",
        "plt.ylabel('Y axis')\n",
        "plt.grid()\n",
        "plt.xlim([-1, 5])\n",
        "plt.ylim([-1, 5])\n",
        "plt.show()"
      ],
      "execution_count": 21,
      "outputs": [
        {
          "output_type": "display_data",
          "data": {
            "image/png": "[encoded data removed]",
            "text/plain": [
              "<Figure size 432x288 with 1 Axes>"
            ]
          },
          "metadata": {
            "tags": [],
            "needs_background": "light"
          }
        }
      ]
    },
    {
      "cell_type": "code",
      "metadata": {
        "id": "Hb1WaJ-vmwOB",
        "colab_type": "code",
        "colab": {}
      },
      "source": [
        ""
      ],
      "execution_count": null,
      "outputs": []
    }
  ]
}