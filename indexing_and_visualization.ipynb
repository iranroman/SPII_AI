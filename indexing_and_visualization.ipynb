{
  "nbformat": 4,
  "nbformat_minor": 0,
  "metadata": {
    "colab": {
      "name": "indexing_and_visualization.ipynb",
      "provenance": [],
      "collapsed_sections": []
    },
    "kernelspec": {
      "name": "python3",
      "display_name": "Python 3"
    }
  },
  "cells": [
    {
      "cell_type": "code",
      "metadata": {
        "id": "3y6ocQOTq7Cw",
        "colab_type": "code",
        "colab": {}
      },
      "source": [
        "# load the Iris dataset\n",
        "\n",
        "from sklearn import datasets\n",
        "iris = datasets.load_iris()\n",
        "X = iris.data\n",
        "y = iris.target"
      ],
      "execution_count": 3,
      "outputs": []
    },
    {
      "cell_type": "code",
      "metadata": {
        "id": "UWUga6cvrR62",
        "colab_type": "code",
        "colab": {
          "base_uri": "https://localhost:8080/",
          "height": 51
        },
        "outputId": "66722216-b65f-41d9-8055-a0417327f642"
      },
      "source": [
        "# here we print the shape of X and y\n",
        "\n",
        "print('The shape of X is: ', X.shape)\n",
        "print('The shape of y is: ', y.shape)"
      ],
      "execution_count": 4,
      "outputs": [
        {
          "output_type": "stream",
          "text": [
            "The shape of X is:  (150, 4)\n",
            "The shape of y is:  (150,)\n"
          ],
          "name": "stdout"
        }
      ]
    },
    {
      "cell_type": "code",
      "metadata": {
        "id": "aZGcD64BrYU7",
        "colab_type": "code",
        "colab": {
          "base_uri": "https://localhost:8080/",
          "height": 51
        },
        "outputId": "576f694e-e728-4037-bdf7-562e2de01525"
      },
      "source": [
        "# and we also print specific elements in X and y by indexing\n",
        "\n",
        "print('The first row of X is: ', X[0,:])\n",
        "print('The first row of y is: ', y[0])"
      ],
      "execution_count": 9,
      "outputs": [
        {
          "output_type": "stream",
          "text": [
            "The first row of X is:  [5.1 3.5 1.4 0.2]\n",
            "The first row of y is:  0\n"
          ],
          "name": "stdout"
        }
      ]
    },
    {
      "cell_type": "code",
      "metadata": {
        "id": "9bU_LDGhrtnl",
        "colab_type": "code",
        "colab": {
          "base_uri": "https://localhost:8080/",
          "height": 34
        },
        "outputId": "615e70da-cba2-4daf-8d74-bf2d768e1dbe"
      },
      "source": [
        "# here we index X so that we only use two features \n",
        "# and we check its shape again\n",
        "\n",
        "X = X[:,0:2]\n",
        "print('The shape of X is: ', X.shape)"
      ],
      "execution_count": 10,
      "outputs": [
        {
          "output_type": "stream",
          "text": [
            "The shape of X is:  (150, 2)\n"
          ],
          "name": "stdout"
        }
      ]
    },
    {
      "cell_type": "code",
      "metadata": {
        "id": "Af4rfOGmsaAJ",
        "colab_type": "code",
        "colab": {
          "base_uri": "https://localhost:8080/",
          "height": 268
        },
        "outputId": "168df912-2964-442a-9fe6-d7059f5094e9"
      },
      "source": [
        "# this cell shows how to plot datapoints\n",
        "# using plt.scatter\n",
        "\n",
        "%matplotlib inline\n",
        "import matplotlib.pyplot as plt\n",
        "\n",
        "plt.scatter(X[:,0],X[:,1],c='grey')\n",
        "plt.show()"
      ],
      "execution_count": 23,
      "outputs": [
        {
          "output_type": "display_data",
          "data": {
            "image/png": "[encoded data removed]",
            "text/plain": [
              "<Figure size 432x288 with 1 Axes>"
            ]
          },
          "metadata": {
            "tags": [],
            "needs_background": "light"
          }
        }
      ]
    },
    {
      "cell_type": "code",
      "metadata": {
        "id": "XmzQP1GLszAS",
        "colab_type": "code",
        "colab": {
          "base_uri": "https://localhost:8080/",
          "height": 34
        },
        "outputId": "70830b55-5e93-4389-f81d-785b687be829"
      },
      "source": [
        "# more indexing examples\n",
        "\n",
        "a = [3,2,4,5,1]\n",
        "a[2:4]"
      ],
      "execution_count": 15,
      "outputs": [
        {
          "output_type": "execute_result",
          "data": {
            "text/plain": [
              "[4, 5]"
            ]
          },
          "metadata": {
            "tags": []
          },
          "execution_count": 15
        }
      ]
    },
    {
      "cell_type": "code",
      "metadata": {
        "id": "_hIYbP2rs-rX",
        "colab_type": "code",
        "colab": {
          "base_uri": "https://localhost:8080/",
          "height": 34
        },
        "outputId": "225c3d2f-157a-4b5e-f6a4-c8f7e89d14f8"
      },
      "source": [
        "# the 'append' trick\n",
        "\n",
        "b = []\n",
        "\n",
        "for i in a:\n",
        "\n",
        "  b.append(i)\n",
        "\n",
        "print(b)"
      ],
      "execution_count": 25,
      "outputs": [
        {
          "output_type": "stream",
          "text": [
            "[3, 2, 4, 5, 1, 3, 2, 4, 5, 1]\n"
          ],
          "name": "stdout"
        }
      ]
    },
    {
      "cell_type": "code",
      "metadata": {
        "id": "Wn2C8NW5uHSJ",
        "colab_type": "code",
        "colab": {
          "base_uri": "https://localhost:8080/",
          "height": 224
        },
        "outputId": "add62480-df13-473e-80d5-aa044b82ba2e"
      },
      "source": [
        "# how to generate random uniform distributions\n",
        "\n",
        "import random\n",
        "\n",
        "c = []\n",
        "\n",
        "for i in range(10):\n",
        "\n",
        "  print(i)\n",
        "  c.append(random.uniform(2500,4500))\n",
        "\n",
        "print(c)\n",
        "\n"
      ],
      "execution_count": 29,
      "outputs": [
        {
          "output_type": "stream",
          "text": [
            "0\n",
            "1\n",
            "2\n",
            "3\n",
            "4\n",
            "5\n",
            "6\n",
            "7\n",
            "8\n",
            "9\n",
            "[4059.8692828245057, 4488.6612646966705, 2554.39580554078, 2938.509105387739, 4392.875868318115, 3817.5558823317733, 2951.7878919631303, 3711.654441658111, 4150.237633520832, 3278.8491017717306]\n"
          ],
          "name": "stdout"
        }
      ]
    }
  ]
}