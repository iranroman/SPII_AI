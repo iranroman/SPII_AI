{
  "nbformat": 4,
  "nbformat_minor": 0,
  "metadata": {
    "colab": {
      "name": "numpy_and_data_splitting.ipynb",
      "provenance": []
    },
    "kernelspec": {
      "name": "python3",
      "display_name": "Python 3"
    }
  },
  "cells": [
    {
      "cell_type": "code",
      "metadata": {
        "id": "5e7pxl4-s53R",
        "colab_type": "code",
        "colab": {
          "base_uri": "https://localhost:8080/",
          "height": 442
        },
        "outputId": "ee1d8207-3b53-49df-81f2-4b055ad01443"
      },
      "source": [
        "# Numpy\n",
        "# this library let's us use matrices, vectors, and tensors. \n",
        "\n",
        "import numpy as np\n",
        "\n",
        "A = np.ones([4,5,8])\n",
        "print(A.shape)\n",
        "print(A)\n",
        "\n",
        "B = np.zeros([7])\n",
        "print(B.shape)"
      ],
      "execution_count": 6,
      "outputs": [
        {
          "output_type": "stream",
          "text": [
            "(4, 5, 8)\n",
            "[[[1. 1. 1. 1. 1. 1. 1. 1.]\n",
            "  [1. 1. 1. 1. 1. 1. 1. 1.]\n",
            "  [1. 1. 1. 1. 1. 1. 1. 1.]\n",
            "  [1. 1. 1. 1. 1. 1. 1. 1.]\n",
            "  [1. 1. 1. 1. 1. 1. 1. 1.]]\n",
            "\n",
            " [[1. 1. 1. 1. 1. 1. 1. 1.]\n",
            "  [1. 1. 1. 1. 1. 1. 1. 1.]\n",
            "  [1. 1. 1. 1. 1. 1. 1. 1.]\n",
            "  [1. 1. 1. 1. 1. 1. 1. 1.]\n",
            "  [1. 1. 1. 1. 1. 1. 1. 1.]]\n",
            "\n",
            " [[1. 1. 1. 1. 1. 1. 1. 1.]\n",
            "  [1. 1. 1. 1. 1. 1. 1. 1.]\n",
            "  [1. 1. 1. 1. 1. 1. 1. 1.]\n",
            "  [1. 1. 1. 1. 1. 1. 1. 1.]\n",
            "  [1. 1. 1. 1. 1. 1. 1. 1.]]\n",
            "\n",
            " [[1. 1. 1. 1. 1. 1. 1. 1.]\n",
            "  [1. 1. 1. 1. 1. 1. 1. 1.]\n",
            "  [1. 1. 1. 1. 1. 1. 1. 1.]\n",
            "  [1. 1. 1. 1. 1. 1. 1. 1.]\n",
            "  [1. 1. 1. 1. 1. 1. 1. 1.]]]\n",
            "(7,)\n"
          ],
          "name": "stdout"
        }
      ]
    },
    {
      "cell_type": "code",
      "metadata": {
        "id": "xAiOP2ngubDC",
        "colab_type": "code",
        "colab": {
          "base_uri": "https://localhost:8080/",
          "height": 85
        },
        "outputId": "9dadad45-c5a4-4afa-a7e0-602f43562ce0"
      },
      "source": [
        "# let's load the Iris dataset\n",
        "\n",
        "from sklearn import datasets\n",
        "iris = datasets.load_iris()\n",
        "X = iris.data\n",
        "y = iris.target\n",
        "\n",
        "print('The shape of X is: ', X.shape)\n",
        "print('The shape of y is: ', y.shape)\n",
        "print(type(X))\n",
        "print(type(y))"
      ],
      "execution_count": 10,
      "outputs": [
        {
          "output_type": "stream",
          "text": [
            "The shape of X is:  (150, 4)\n",
            "The shape of y is:  (150,)\n",
            "<class 'numpy.ndarray'>\n",
            "<class 'numpy.ndarray'>\n"
          ],
          "name": "stdout"
        }
      ]
    },
    {
      "cell_type": "code",
      "metadata": {
        "id": "uJ_ZucxKvOVd",
        "colab_type": "code",
        "colab": {
          "base_uri": "https://localhost:8080/",
          "height": 68
        },
        "outputId": "b8c5d49f-20f8-4130-e55f-e597ef018b50"
      },
      "source": [
        "# data splitting for cross validation\n",
        "\n",
        "NtotalDatapoints = X.shape[0]\n",
        "if X.shape[0] == y.shape[0]:\n",
        "  print('The dimensions of the data and the labels match!')\n",
        "NtotalFeatures = X.shape[1]\n",
        "\n",
        "# we want to split the data into training and test sets\n",
        "test_percent = 10\n",
        "NtestDatapoints = int(NtotalDatapoints / test_percent)\n",
        "\n",
        "# numpy has this very handy function to generate random numbers in a range, without replacement\n",
        "test_indices = np.random.choice(NtotalDatapoints, size=NtestDatapoints, replace=False)\n",
        "print(test_indices)\n",
        "print(len(test_indices))"
      ],
      "execution_count": 16,
      "outputs": [
        {
          "output_type": "stream",
          "text": [
            "The dimensions of the data and the labels match!\n",
            "[ 82 133 143  92 111 147  37 138 104  90  72  69  83  62  68]\n",
            "15\n"
          ],
          "name": "stdout"
        }
      ]
    },
    {
      "cell_type": "code",
      "metadata": {
        "id": "55VCkJdDwBGj",
        "colab_type": "code",
        "colab": {
          "base_uri": "https://localhost:8080/",
          "height": 85
        },
        "outputId": "ff0cf5af-5da2-410b-e34f-98439d8fcbe3"
      },
      "source": [
        "# now let's split training and testing data\n",
        "\n",
        "X_test = X[test_indices]\n",
        "y_test = y[test_indices]\n",
        "X_train = np.delete(X, test_indices, axis=0)\n",
        "y_train = np.delete(y, test_indices)\n",
        "\n",
        "print('The shape of X_train is: ', X_train.shape)\n",
        "print('The shape of y_train is: ', y_train.shape)\n",
        "print('The shape of X_test is: ', X_test.shape)\n",
        "print('The shape of y_test is: ', y_test.shape)\n"
      ],
      "execution_count": 20,
      "outputs": [
        {
          "output_type": "stream",
          "text": [
            "The shape of X_train is:  (135, 4)\n",
            "The shape of y_train is:  (135,)\n",
            "The shape of X_test is:  (15, 4)\n",
            "The shape of y_test is:  (15,)\n"
          ],
          "name": "stdout"
        }
      ]
    },
    {
      "cell_type": "code",
      "metadata": {
        "id": "kY_db_UWywr8",
        "colab_type": "code",
        "colab": {}
      },
      "source": [
        "# split the training data into k-folds\n",
        "\n",
        "N_k_folds = 5\n",
        "\n",
        "\n"
      ],
      "execution_count": null,
      "outputs": []
    }
  ]
}