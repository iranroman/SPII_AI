{
 "cells": [
  {
   "cell_type": "markdown",
   "metadata": {},
   "source": [
    "# K-means clustering\n",
    "\n",
    "In this assignment you will implement the K-means clustering algorithm using the Iris dataset. "
   ]
  },
  {
   "cell_type": "markdown",
   "metadata": {},
   "source": [
    "Before anything else, let's summarize what we need to get started:\n",
    "* A dataset with multiple examples (datapoints) and at least one feature with continuous values.\n",
    "* The max and min values of each feature to generate random initial K-points.\n",
    "* A uniform distribution for each dimension.\n",
    "* Define how many K-points you will use (How can you know this?).\n",
    "* Define how you will know that you have reached “convergence”.\n",
    "\n",
    "Let's go through these points."
   ]
  },
  {
   "cell_type": "code",
   "execution_count": null,
   "metadata": {},
   "outputs": [],
   "source": [
    "# The Iris dataset has multiple examples and four features with continuous values.\n",
    "\n",
    "# write the code to load the iris dataset\n",
    "### your code here ###\n",
    "X = iris.data\n",
    "y = iris.target\n",
    "\n",
    "# We will only use the first two features in the Iris dataset so that we can generate 2D scatter plots\n",
    "# write the code to only use the first two features\n",
    "X = # your code here"
   ]
  },
  {
   "cell_type": "code",
   "execution_count": null,
   "metadata": {},
   "outputs": [],
   "source": [
    "# now we need to find the max and min values for each feature. \n",
    "\n",
    "X_0_min = min(X[:,0])\n",
    "X_0_max = max(X[:,0])\n",
    "X_1_min = min(X[:,1])\n",
    "X_1_max = max(X[:,1])\n",
    "\n",
    "# challenge: can you write this with a for loop?"
   ]
  },
  {
   "cell_type": "code",
   "execution_count": null,
   "metadata": {},
   "outputs": [],
   "source": [
    "# we will also need a uniform distribution, so we need to import the 'random' library\n",
    "import random"
   ]
  },
  {
   "cell_type": "code",
   "execution_count": null,
   "metadata": {},
   "outputs": [],
   "source": [
    "# next we need to define how many K-points we want to identify. \n",
    "# That is to say: how many clusters do we want to find in our dataset?\n",
    "\n",
    "num_K_points = # your code here. How many k-points do we want to find? "
   ]
  },
  {
   "cell_type": "code",
   "execution_count": null,
   "metadata": {},
   "outputs": [],
   "source": [
    "# challenge: How will you define that you have reached convergence?\n",
    "# your code here:\n",
    "# Ignore this for now if you cannot think of a way to do this step. "
   ]
  },
  {
   "cell_type": "markdown",
   "metadata": {},
   "source": [
    "Ok, we have everything we need to get started writing the algorithm. Let's remember the algorithm steps:\n",
    "1. Generate K points by drawing numbers from a uniform distribution for each feature (use the max and min values to delimit the uniform distribution). \n",
    "2. Calculate which of the K point is closest to each of the datapoints. This will define K regions in your dataset.\n",
    "3. Calculate the mean for the datapoints in each of the K regions. The new K means will be your new K points. \n",
    "4. Repeat steps 2 and 3 until achieving convergence.\n",
    "\n",
    "Let's write the K-means clustering algorithm:"
   ]
  },
  {
   "cell_type": "code",
   "execution_count": null,
   "metadata": {},
   "outputs": [],
   "source": [
    "##########################\n",
    "####### Step 1 ###########\n",
    "##########################\n",
    "# Generate K points by drawing numbers from a uniform distribution for each feature \n",
    "# (use the max and min values to delimit the uniform distribution).\n",
    "# To do this you will need to use the random.uniform() function, \n",
    "# which takes two arguments: the max and min value of the uniform distribution \n",
    "# from which you want to draw random numbers.\n",
    "# hint: you will have to use the X_0_min, X_0_max, X_1_min and X_1_max\n",
    "\n",
    "K_points = [] \n",
    "for i in range(num_K_points):\n",
    "    # your code here\n",
    "\n",
    "# after you write your code:\n",
    "# K_points should be a list with 3 randomly generated datapoints\n",
    "# hence: len(K_points) == 3\n",
    "# len(K_points[0]) == 2 # because we are dealing with 2 features\n",
    "# len(K_points[1]) == 2 # because we are dealing with 2 features\n",
    "# len(K_points[2]) == 2 # because we are dealing with 2 features"
   ]
  },
  {
   "cell_type": "code",
   "execution_count": null,
   "metadata": {},
   "outputs": [],
   "source": [
    "# Let's visualize the K-points we have generated\n",
    "import matplotlib.pyplot as plt\n",
    "%matplotlib inline\n",
    "\n",
    "for i in range(num_K_points):\n",
    "    plt.scatter(K_points[i][0], K_points[i][1])\n",
    "plt.show()"
   ]
  },
  {
   "cell_type": "code",
   "execution_count": null,
   "metadata": {},
   "outputs": [],
   "source": [
    "# now let's visualize the datapoints we will use to find the k-means\n",
    "# and the K-points that we generated randomly\n",
    "\n",
    "plt.scatter(X[:,0],X[:,1],c='gray')\n",
    "for i in range(num_K_points):\n",
    "    plt.scatter(K_points[i][0], K_points[i][1],s=100) # s=100 is an argument that changes the size of the points\n",
    "plt.show()\n",
    "\n",
    "# Do the K-points seem to be the mean of the clusters that your datapoints form?"
   ]
  },
  {
   "cell_type": "code",
   "execution_count": null,
   "metadata": {},
   "outputs": [],
   "source": [
    "##########################\n",
    "####### Step 2 ###########\n",
    "##########################\n",
    "# Calculate which of the K point is closest to each of the datapoints. \n",
    "# This will define K regions in your dataset.\n",
    "# For this step, use the L1 norm\n",
    "\n",
    "# First, write the function to calculate the L1 norm between two datapoints\n",
    "def L1_norm(a,b):\n",
    "    '''\n",
    "    a is a list representing an 2-D datapoint\n",
    "    b is a list representing an 2-D datapoint\n",
    "    '''\n",
    "    # your code here:\n",
    "    norm = \n",
    "    \n",
    "    return norm\n",
    "\n",
    "# Now that we have an L1 function you will need to find the L1 distance between each\n",
    "# datapoint and all K-points.\n",
    "\n",
    "Ndatapoints = len(X)\n",
    "distances = []  # this variable will be a Ndatapoints-long list where each entry\n",
    "                # is a list containing the distances between a datapoint and each\n",
    "                # K-point\n",
    "                # hence: len(distances) == Ndatapoints\n",
    "                # len(distances[0]) == 3\n",
    "for i in range(Ndatapoints):\n",
    "\n",
    "    # your code here\n",
    "    distances.append()\n",
    "    \n",
    "# Now, you will find which K-point resulted\n",
    "# in the shortest distance with your datapoint\n",
    "closest_k_point = [] # this variable will be a Ndatapoints-long list where each entry\n",
    "                     # is the K-point ID that was closest to the datapoint\n",
    "                     # the K-point IDs will be 0, 1, and 2 because we are trying to find 3 K_points\n",
    "for i in range(Ndatapoints):\n",
    "    \n",
    "    # your code here\n",
    "    closest_k_point.append()\n",
    "    \n",
    "# now each datapoint belongs to one of three regions, based on which\n",
    "# k-point was the closest one\n",
    "    \n",
    "# This code will let you visualize the resulting clusters\n",
    "colors = ['g','r','b']\n",
    "for i in range(Ndatapoints):\n",
    "    plt.scatter(X[i,0],X[i,1],c=colors[closest_k_point[i]])\n",
    "plt.show()"
   ]
  },
  {
   "cell_type": "code",
   "execution_count": null,
   "metadata": {},
   "outputs": [],
   "source": [
    "##########################\n",
    "####### Step 3 ###########\n",
    "##########################\n",
    "# Calculate the mean for the datapoints in each of the K regions. \n",
    "# The new K means will be your new K points.\n",
    "\n",
    "# separate the datapoints into 3 lists corresponding to\n",
    "# points closest to each K-point\n",
    "\n",
    "clusters = [[],[],[]]   # this is a list with three \"sublists\"\n",
    "                        # where each sublist contains the datapoints \n",
    "                        # that are closest to the corresponding k-point\n",
    "for i in range(Ndatapoints):\n",
    "    # your code here:\n",
    "    if closest_k_point[i] \n",
    "        \n",
    "# now calculate the mean for each cluster \n",
    "# first write a function to calculate the mean for each cluster\n",
    "\n",
    "def cluster_mean(cluster):\n",
    "    '''\n",
    "    cluster is a list of 2D datapoints\n",
    "    this function calculates the mean across\n",
    "    datapoints for each dimension\n",
    "    '''\n",
    "    mean = [0,0]\n",
    "    for i in range(len(cluster)):\n",
    "        # your code here\n",
    "    return mean\n",
    "\n",
    "mean0 = cluster_mean(clusters[0])\n",
    "mean1 = cluster_mean(clusters[1])\n",
    "mean2 = cluster_mean(clusters[2])\n",
    "\n",
    "# # now update your K-points\n",
    "K_points = [mean0,mean1,mean2]"
   ]
  },
  {
   "cell_type": "markdown",
   "metadata": {},
   "source": [
    "Now that you have written the three steps, you can repeat steps 2 and 3 until your algorithm converges. \n",
    "\n",
    "You can write a while loop to automate the repetition of the steps. How will you know when to stop the while loop?"
   ]
  },
  {
   "cell_type": "code",
   "execution_count": null,
   "metadata": {},
   "outputs": [],
   "source": [
    "old_K_points = [0,0,0]\n",
    "while old_K_points != K_points:\n",
    "    # your code here"
   ]
  },
  {
   "cell_type": "code",
   "execution_count": null,
   "metadata": {},
   "outputs": [],
   "source": [
    "# Now write code to visualize a comparison between the clusters that you found and the ground truth\n",
    "# labels in the variable 'y'\n",
    "\n",
    "# your code here"
   ]
  },
  {
   "cell_type": "markdown",
   "metadata": {},
   "source": [
    "Once you are done, try the following:\n",
    "* Use the L2 norm instead of L1 norm\n",
    "* Use another set of 2 features from the Iris dataset\n",
    "* Use more than two features. Start using 3 features and generate 3D plots\n",
    "* Can you do this with all 4 features? What if you do it only with 1 feature?\n",
    "* How do you get the best result?"
   ]
  }
 ],
 "metadata": {
  "kernelspec": {
   "display_name": "Python 3",
   "language": "python",
   "name": "python3"
  },
  "language_info": {
   "codemirror_mode": {
    "name": "ipython",
    "version": 3
   },
   "file_extension": ".py",
   "mimetype": "text/x-python",
   "name": "python",
   "nbconvert_exporter": "python",
   "pygments_lexer": "ipython3",
   "version": "3.7.7"
  }
 },
 "nbformat": 4,
 "nbformat_minor": 4
}
